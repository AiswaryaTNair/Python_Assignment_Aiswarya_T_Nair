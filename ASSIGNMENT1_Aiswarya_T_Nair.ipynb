{
 "cells": [
  {
   "cell_type": "code",
   "execution_count": 10,
   "metadata": {},
   "outputs": [
    {
     "name": "stdout",
     "output_type": "stream",
     "text": [
      "sum of list1:  58\n"
     ]
    }
   ],
   "source": [
    "#1.Write a program to find sum of all elements in a list of integers\n",
    "list1=[2,6,8,12,14,16]\n",
    "#sum=list1[0]+list1[1]+list1[2]+list1[3]+list1[4]+list1[5]\n",
    "print(\"sum of list1:\",sum(list1))"
   ]
  },
  {
   "cell_type": "code",
   "execution_count": 4,
   "metadata": {},
   "outputs": [
    {
     "name": "stdout",
     "output_type": "stream",
     "text": [
      "10\n",
      "my name is\n"
     ]
    }
   ],
   "source": [
    "#2.Input a sentence as a string. a) Print its length b) Print the first half of string\n",
    "a=\"my name is aiswarya \"\n",
    "len(a)\n",
    "b=int(len(a)/2)\n",
    "print(b)\n",
    "print(a[:b])"
   ]
  },
  {
   "cell_type": "code",
   "execution_count": 1,
   "metadata": {},
   "outputs": [
    {
     "name": "stdout",
     "output_type": "stream",
     "text": [
      "Enter the first string: I am Aiswarya\n",
      "Enter the second string: I am from Kasaragod\n",
      "I am AiswaryaI am from Kasaragod\n"
     ]
    },
    {
     "data": {
      "text/plain": [
       "32"
      ]
     },
     "execution_count": 1,
     "metadata": {},
     "output_type": "execute_result"
    }
   ],
   "source": [
    "#3.Ask the user to provide two string as input. Add the string and print the length of the resultant string\n",
    "str1=input(\"Enter the first string: \")\n",
    "str2=input(\"Enter the second string: \")\n",
    "string=str1+str2\n",
    "print(string)\n",
    "len(string)\n",
    "\n"
   ]
  },
  {
   "cell_type": "code",
   "execution_count": 2,
   "metadata": {},
   "outputs": [
    {
     "name": "stdout",
     "output_type": "stream",
     "text": [
      "Enter the first string: Iam Aiswarya.\n",
      "Enter the second string: I am from Kasaragod.\n",
      "Iam Aiswarya.I am from Kasaragod.\n"
     ]
    },
    {
     "data": {
      "text/plain": [
       "33"
      ]
     },
     "execution_count": 2,
     "metadata": {},
     "output_type": "execute_result"
    }
   ],
   "source": [
    "#3.Ask the user to provide two string as input. Add the string and print the length of the resultant string\n",
    "str1=input(\"Enter the first string: \")\n",
    "str2=input(\"Enter the second string: \")\n",
    "string=str1+str2\n",
    "print(string)\n",
    "len(string)"
   ]
  },
  {
   "cell_type": "code",
   "execution_count": 15,
   "metadata": {},
   "outputs": [
    {
     "name": "stdout",
     "output_type": "stream",
     "text": [
      "[78, 45, 32, 19, 82, 77, 40, 39]\n",
      "(78, 45, 100, 19, 82, 77, 40, 39)\n"
     ]
    }
   ],
   "source": [
    "#4.Write a program to enter a tuple of integers as (78,45,32,19,82,77,40,39). Change the third value in the tuple to 100\n",
    "tup1=(78,45,32,19,82,77,40,39)\n",
    "list1=list(tup1)\n",
    "print(list1)\n",
    "list1[2]=100\n",
    "tup1=tuple(list1)\n",
    "print(tup1)\n"
   ]
  },
  {
   "cell_type": "code",
   "execution_count": 3,
   "metadata": {},
   "outputs": [
    {
     "name": "stdout",
     "output_type": "stream",
     "text": [
      "[19, 32, 10, 55, 31, 32, 94, 29, 10, 65, 77, 40, 40]\n",
      "[19, 10, 55, 31, 32, 94, 29, 10, 65, 77, 40, 40]\n",
      "[19, 10, 55, 31, 32, 94, 29, 10, 65, 77]\n",
      "[19, 10, 55, 31, 32, 29, 10, 65, 77]\n",
      "[19, 10, 200, 55, 31, 32, 29, 10, 65, 77]\n",
      "[19, 10, 200, 55, 31, 32, 29, 10, 65, 300]\n",
      "max of lstA is 300\n",
      "sum of lstA IS 751\n"
     ]
    }
   ],
   "source": [
    "#5.Consider a list lstA=[19,32,10,55,31,32,94,29,10,65,77,40,40]\n",
    "#(a) Delete the first occurrence of 32\n",
    "#(b) Delete all occurrences of 40\n",
    "#(c) Delete the value at index=5\n",
    "#(d) Modify the value at index=9 as 300\n",
    "#(e) Add 200 at index=2\n",
    "#(f) Print the final list with its length, maximum value and sum of all elements\n",
    "\n",
    "#(a) Delete the first occurrence of 32\n",
    "lstA=[19,32,10,55,31,32,94,29,10,65,77,40,40]\n",
    "print(lstA)\n",
    "lstA.remove(32)\n",
    "print(lstA)\n",
    "#(b) Delete all occurrences of 40\n",
    "n=40\n",
    "i=0\n",
    "length=len(lstA)\n",
    "while i<length:\n",
    "    if lstA[i]==n:\n",
    "        lstA.remove(lstA[i])\n",
    "        length = length -1 \n",
    "        continue\n",
    "    i=i+1\n",
    "print(lstA)\n",
    "\n",
    "#(c) Delete the value at index=5\n",
    "lstA.pop(5)\n",
    "print(lstA)\n",
    "\n",
    "\n",
    "#(e) Add 200 at index=2\n",
    "lstA.insert(2,200)\n",
    "print(lstA)\n",
    "\n",
    "#(d) Modify the value at index=9 as 300\n",
    "lstA[9]=300\n",
    "print(lstA)\n",
    "\n",
    "#(f) Print the final list with its length, maximum value and sum of all elements\n",
    "len(lstA)\n",
    "print(\"max of lstA is\",max(lstA))\n",
    "print(\"sum of lstA IS\",sum(lstA))\n"
   ]
  },
  {
   "cell_type": "code",
   "execution_count": null,
   "metadata": {},
   "outputs": [],
   "source": []
  },
  {
   "cell_type": "code",
   "execution_count": 80,
   "metadata": {},
   "outputs": [
    {
     "name": "stdout",
     "output_type": "stream",
     "text": [
      "The day has been long\n",
      "The ay has been long\n",
      "The ay has been long The ay has been long The ay has been long The ay has been long \n",
      "The ay has been long\n",
      "The ay has been long\n",
      "The ay has been long\n",
      "\n",
      "The ay Aas been long\n",
      "ay Aas been \n",
      "The final string: ay Aas been \n",
      "Length of the final string is 12\n"
     ]
    }
   ],
   "source": [
    "#Consider a string ”The day has been long”.\n",
    "#(a) Delete the value at index =4\n",
    "#(b) Print the string 4 times in a single line with space between each repetition\n",
    "#(c) Print the string 3 times in a new line each time\n",
    "#(d) Modify the string at index 7 as ’A’\n",
    "#(e) Print the string from index 4 to 15\n",
    "#(f) Print the final string with its length\n",
    "\n",
    "#(a) Delete the value at index =4\n",
    "str1=\"The day has been long\"\n",
    "print(str1)\n",
    "index = 4\n",
    "if len(str1) > index:\n",
    "    str1 = str1[:4] + str1[4+1:]\n",
    "print(str1)\n",
    "\n",
    "#(b) Print the string 4 times in a single line with space between each repetition\n",
    "print((str1+' ')*4)\n",
    "\n",
    "#(c) Print the string 3 times in a new line each time\n",
    "print((str1+\"\\n\")*3)\n",
    "\n",
    "#(d) Modify the string at index 7 as ’A’\n",
    "string= list(str1)\n",
    "string[7] = 'A'\n",
    "new_str=''.join(string)\n",
    "print(new_str)\n",
    "\n",
    "#(e) Print the string from index 4 to 15\n",
    "str1=new_str[4:16]\n",
    "print(str1)\n",
    "\n",
    "#(f) Print the final string with its length\n",
    "print(\"The final string:\",str1)\n",
    "print(\"Length of the final string is\",len(str1))"
   ]
  },
  {
   "cell_type": "code",
   "execution_count": null,
   "metadata": {},
   "outputs": [],
   "source": []
  },
  {
   "cell_type": "code",
   "execution_count": null,
   "metadata": {},
   "outputs": [],
   "source": []
  }
 ],
 "metadata": {
  "kernelspec": {
   "display_name": "Python 3 (ipykernel)",
   "language": "python",
   "name": "python3"
  },
  "language_info": {
   "codemirror_mode": {
    "name": "ipython",
    "version": 3
   },
   "file_extension": ".py",
   "mimetype": "text/x-python",
   "name": "python",
   "nbconvert_exporter": "python",
   "pygments_lexer": "ipython3",
   "version": "3.7.0"
  }
 },
 "nbformat": 4,
 "nbformat_minor": 2
}
